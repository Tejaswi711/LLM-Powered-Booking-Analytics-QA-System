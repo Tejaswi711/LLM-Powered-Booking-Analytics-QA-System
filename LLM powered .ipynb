{
 "cells": [
  {
   "cell_type": "code",
   "execution_count": 1,
   "id": "8fb498e0b15d86c9",
   "metadata": {
    "ExecuteTime": {
     "end_time": "2025-03-27T09:25:33.089953Z",
     "start_time": "2025-03-27T09:25:14.791670Z"
    }
   },
   "outputs": [],
   "source": [
    "import numpy as np\n",
    "import pandas as pd\n",
    "import matplotlib.pyplot as plt"
   ]
  },
  {
   "cell_type": "code",
   "execution_count": 2,
   "id": "f0a3460ea94ba3a9",
   "metadata": {
    "ExecuteTime": {
     "end_time": "2025-03-27T09:26:37.732280Z",
     "start_time": "2025-03-27T09:26:35.195990Z"
    }
   },
   "outputs": [],
   "source": [
    "data = pd.read_csv(\"Booking dataset.csv\")"
   ]
  },
  {
   "cell_type": "code",
   "execution_count": 3,
   "id": "f3503de055e67d20",
   "metadata": {
    "ExecuteTime": {
     "end_time": "2025-03-27T09:35:44.312772Z",
     "start_time": "2025-03-27T09:35:44.186432Z"
    }
   },
   "outputs": [],
   "source": [
    "data.head()"
   ]
  },
  {
   "cell_type": "code",
   "execution_count": 4,
   "id": "10a626310da25a1a",
   "metadata": {
    "ExecuteTime": {
     "end_time": "2025-03-27T09:36:06.285896Z",
     "start_time": "2025-03-27T09:36:06.276623Z"
    }
   },
   "outputs": [],
   "source": [
    "data.shape"
   ]
  },
  {
   "cell_type": "code",
   "execution_count": 5,
   "id": "a7e1fddfa0bc5b68",
   "metadata": {
    "ExecuteTime": {
     "end_time": "2025-03-27T09:36:42.110310Z",
     "start_time": "2025-03-27T09:36:27.762809Z"
    }
   },
   "outputs": [],
   "source": [
    "data.info()"
   ]
  },
  {
   "cell_type": "code",
   "execution_count": 6,
   "id": "2db39f8a1c6016ba",
   "metadata": {
    "ExecuteTime": {
     "end_time": "2025-03-27T09:37:00.928177Z",
     "start_time": "2025-03-27T09:37:00.707332Z"
    }
   },
   "outputs": [],
   "source": [
    "data.isnull().sum()"
   ]
  },
  {
   "cell_type": "code",
   "execution_count": 7,
   "id": "82bb6fd64ab957b1",
   "metadata": {
    "ExecuteTime": {
     "end_time": "2025-03-27T09:37:32.355896Z",
     "start_time": "2025-03-27T09:37:25.995532Z"
    }
   },
   "outputs": [],
   "source": [
    "data.duplicated().sum()"
   ]
  },
  {
   "cell_type": "code",
   "execution_count": 8,
   "id": "be3779f4f325fec5",
   "metadata": {
    "ExecuteTime": {
     "end_time": "2025-03-27T09:37:45.139277Z",
     "start_time": "2025-03-27T09:37:43.006273Z"
    }
   },
   "outputs": [],
   "source": [
    "data = data.drop_duplicates()"
   ]
  },
  {
   "cell_type": "code",
   "execution_count": 9,
   "id": "ed0ff74496009e91",
   "metadata": {
    "ExecuteTime": {
     "end_time": "2025-03-27T09:38:04.161233Z",
     "start_time": "2025-03-27T09:38:03.711719Z"
    }
   },
   "outputs": [],
   "source": [
    "data = data.drop(['agent', 'company'], axis=1)"
   ]
  },
  {
   "cell_type": "code",
   "execution_count": 10,
   "id": "4a3bc8177ccc5959",
   "metadata": {
    "ExecuteTime": {
     "end_time": "2025-03-27T09:38:25.072102Z",
     "start_time": "2025-03-27T09:38:20.413374Z"
    }
   },
   "outputs": [],
   "source": [
    "data.describe()"
   ]
  },
  {
   "cell_type": "code",
   "execution_count": 11,
   "id": "6c63de3e1605dcdb",
   "metadata": {
    "ExecuteTime": {
     "end_time": "2025-03-27T09:38:54.977115Z",
     "start_time": "2025-03-27T09:38:54.831108Z"
    }
   },
   "outputs": [],
   "source": [
    "data.drop(['children', 'country'], axis=1, inplace=True)"
   ]
  },
  {
   "cell_type": "code",
   "execution_count": 12,
   "id": "14606e7f18d9ac02",
   "metadata": {
    "ExecuteTime": {
     "end_time": "2025-03-27T09:39:04.748181Z",
     "start_time": "2025-03-27T09:39:04.526672Z"
    }
   },
   "outputs": [],
   "source": [
    "data.isnull().sum()"
   ]
  },
  {
   "cell_type": "code",
   "execution_count": 13,
   "id": "a354744d493af079",
   "metadata": {
    "ExecuteTime": {
     "end_time": "2025-03-27T09:39:49.278061Z",
     "start_time": "2025-03-27T09:39:49.160570Z"
    }
   },
   "outputs": [],
   "source": [
    "canc_rate = data['is_canceled'].mean()"
   ]
  },
  {
   "cell_type": "code",
   "execution_count": 14,
   "id": "140d83cda45ad8fc",
   "metadata": {
    "ExecuteTime": {
     "end_time": "2025-03-27T09:40:27.062489Z",
     "start_time": "2025-03-27T09:40:27.031978Z"
    }
   },
   "outputs": [],
   "source": [
    "display(f\" Cancellation Rate: {canc_rate:.1f}%\")"
   ]
  },
  {
   "cell_type": "code",
   "execution_count": 15,
   "id": "9a23ccb1881c98ac",
   "metadata": {
    "ExecuteTime": {
     "end_time": "2025-03-27T09:40:44.904242Z",
     "start_time": "2025-03-27T09:40:44.215700Z"
    }
   },
   "outputs": [],
   "source": [
    "data['revenue'] = data['adr'] * (data['stays_in_weekend_nights'] + data['stays_in_week_nights'])\n",
    "monthly_rev = data.groupby(['arrival_date_month', 'arrival_date_year'])['revenue'].sum().unstack()"
   ]
  },
  {
   "cell_type": "code",
   "execution_count": 16,
   "id": "3277835f228e111e",
   "metadata": {
    "ExecuteTime": {
     "end_time": "2025-03-27T09:41:00.870644Z",
     "start_time": "2025-03-27T09:40:59.053068Z"
    }
   },
   "outputs": [],
   "source": [
    "display(monthly_rev.style.background_gradient())"
   ]
  },
  {
   "cell_type": "code",
   "execution_count": 18,
   "id": "f6b705d576a77c62",
   "metadata": {
    "ExecuteTime": {
     "end_time": "2025-03-27T09:43:01.865288Z",
     "start_time": "2025-03-27T09:43:00.056120Z"
    }
   },
   "outputs": [],
   "source": [
    "import matplotlib.pyplot as plt\n",
    "import seaborn as sns"
   ]
  },
  {
   "cell_type": "code",
   "execution_count": 19,
   "id": "dbb2f9869fb0b074",
   "metadata": {
    "ExecuteTime": {
     "end_time": "2025-03-27T09:43:27.596353Z",
     "start_time": "2025-03-27T09:43:22.272905Z"
    }
   },
   "outputs": [],
   "source": [
    "plt.figure(figsize=(10,4))\n",
    "sns.countplot(x='hotel', hue='is_canceled', data=data)\n",
    "plt.title(\"Cancellations by Hotel Type\")"
   ]
  },
  {
   "cell_type": "code",
   "execution_count": 20,
   "id": "6e3ef3dadf1d79bc",
   "metadata": {
    "ExecuteTime": {
     "end_time": "2025-03-27T09:43:38.498111Z",
     "start_time": "2025-03-27T09:43:34.322966Z"
    }
   },
   "outputs": [],
   "source": [
    "plt.figure(figsize=(10,4))\n",
    "sns.histplot(data['lead_time'], bins=50, kde=True)\n",
    "plt.title(\"Booking Lead Time Distribution\")"
   ]
  },
  {
   "cell_type": "code",
   "execution_count": 21,
   "id": "3bdec9d213abf746",
   "metadata": {
    "ExecuteTime": {
     "end_time": "2025-03-27T09:43:53.655863Z",
     "start_time": "2025-03-27T09:43:53.648449Z"
    }
   },
   "outputs": [],
   "source": [
    "plt.show()"
   ]
  },
  {
   "cell_type": "code",
   "execution_count": 25,
   "id": "de0655a1cd82ef98",
   "metadata": {
    "ExecuteTime": {
     "end_time": "2025-03-27T10:00:31.066840Z",
     "start_time": "2025-03-27T10:00:31.057962Z"
    }
   },
   "outputs": [],
   "source": [
    "from sentence_transformers import SentenceTransformer"
   ]
  },
  {
   "cell_type": "code",
   "execution_count": 8,
   "id": "eb46fc5522a9601c",
   "metadata": {
    "ExecuteTime": {
     "end_time": "2025-03-27T13:01:26.651807Z",
     "start_time": "2025-03-27T13:01:25.686103Z"
    }
   },
   "outputs": [],
   "source": [
    "import pandas as pd\n",
    "\n",
    "data = pd.DataFrame({\n",
    "    'hotel': ['Hotel A', 'Hotel B'],\n",
    "    'stays_in_week_nights': [3, 5],\n",
    "    'adr': [120.5, 95.0]\n",
    "})\n",
    "\n",
    "\n",
    "text_data = data.apply(\n",
    "    lambda x: f\"Hotel: {x['hotel']}, Nights: {x['stays_in_week_nights']}, Price: {x['adr']}€\",\n",
    "    axis=1\n",
    ")\n",
    "\n",
    "print(text_data)"
   ]
  },
  {
   "cell_type": "code",
   "execution_count": 9,
   "id": "d409bc7df4439ad6",
   "metadata": {
    "ExecuteTime": {
     "end_time": "2025-03-27T13:01:42.508663Z",
     "start_time": "2025-03-27T13:01:35.034537Z"
    }
   },
   "outputs": [],
   "source": [
    "from sentence_transformers import SentenceTransformer\n",
    "model = SentenceTransformer('all-MiniLM-L6-v2')\n",
    "embeddings = model.encode(text_data.tolist())"
   ]
  },
  {
   "cell_type": "code",
   "execution_count": 10,
   "id": "626761aa38b5fe97",
   "metadata": {
    "ExecuteTime": {
     "end_time": "2025-03-27T13:07:11.345392Z",
     "start_time": "2025-03-27T13:07:11.222978Z"
    }
   },
   "outputs": [],
   "source": [
    "data.to_pickle('analytics_data.pkl')"
   ]
  },
  {
   "cell_type": "code",
   "execution_count": 13,
   "id": "d1f888a0f753a185",
   "metadata": {
    "ExecuteTime": {
     "end_time": "2025-03-27T13:08:47.356218Z",
     "start_time": "2025-03-27T13:08:47.333351Z"
    }
   },
   "outputs": [],
   "source": [
    "import numpy as np\n",
    "np.save('embeddings.npy', embeddings)"
   ]
  },
  {
   "cell_type": "code",
   "execution_count": null,
   "id": "cb01f1fa315dcc24",
   "metadata": {},
   "outputs": [],
   "source": []
  }
 ],
 "metadata": {
  "kernelspec": {
   "display_name": "Python 3 (ipykernel)",
   "language": "python",
   "name": "python3"
  }
 },
 "nbformat": 5,
 "nbformat_minor": 9
}
